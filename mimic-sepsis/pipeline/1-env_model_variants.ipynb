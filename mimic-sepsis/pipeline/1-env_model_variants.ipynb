{
 "cells": [
  {
   "cell_type": "code",
   "execution_count": 2,
   "id": "b538688d",
   "metadata": {},
   "outputs": [],
   "source": [
    "import numpy as np\n",
    "import pandas as pd\n",
    "import matplotlib.pyplot as plt\n",
    "import seaborn as sns\n",
    "import os\n",
    "import pickle\n",
    "from collections import defaultdict\n",
    "plt.rcParams['mathtext.fontset'] = 'cm'\n",
    "plt.rcParams['font.family'] = 'STIXGeneral'\n",
    "%config InlineBackend.figure_formats = ['svg']\n",
    "\n",
    "project_dir = '../'"
   ]
  },
  {
   "cell_type": "code",
   "execution_count": 3,
   "id": "f8c0da70",
   "metadata": {},
   "outputs": [],
   "source": [
    "nS = 750\n",
    "nA = 25\n",
    "\n",
    "nS_term = 2\n",
    "S_survival = 750\n",
    "S_death = 751\n",
    "\n",
    "nS_total = nS + nS_term"
   ]
  },
  {
   "cell_type": "code",
   "execution_count": 4,
   "id": "4c919f90",
   "metadata": {},
   "outputs": [],
   "source": [
    "# create 3 reward matrices\n",
    "R_mixed = np.zeros((nS_total, nA, nS_total))\n",
    "R_mixed[:, :, S_survival] = 1\n",
    "R_mixed[:, :, S_death] = -1\n",
    "\n",
    "R_plus = np.zeros((nS_total, nA, nS_total))\n",
    "R_plus[:, :, S_survival] = 1\n",
    "R_plus[:, :, S_death] = 0\n",
    "\n",
    "R_minus = np.zeros((nS_total, nA, nS_total))\n",
    "R_minus[:, :, S_survival] = 0\n",
    "R_minus[:, :, S_death] = -1"
   ]
  },
  {
   "cell_type": "code",
   "execution_count": null,
   "id": "febd1b41",
   "metadata": {},
   "outputs": [],
   "source": [
    "def make_transition_matrix(df_data):\n",
    "    \"\"\"\n",
    "    Create the empirical transition matrix from the dataset.\n",
    "    \"\"\"\n",
    "    # count occurrences of each transition\n",
    "    SAS_count = df_data.groupby(['s:state', 'a:action', 's:next_state']).size().reset_index(name='count')\n",
    "\n",
    "    # Create the transition matrix\n",
    "    P = np.full((nS_total, nA, nS_total), np.nan)\n",
    "    for _, row in SAS_count.iterrows():\n",
    "        P[row['s:state'], row['a:action'], row['s:next_state']] = row['count']\n",
    "\n",
    "    # Normalize the transition matrix\n",
    "    P = P / np.nansum(P, axis=2, keepdims=True)\n",
    "\n",
    "    # Set the transition probabilities for terminal states\n",
    "    P[S_survival, :, :] = 0\n",
    "    P[S_survival, :, S_survival] = 1\n",
    "    P[S_death, :, :] = 0\n",
    "    P[S_death, :, S_death] = 1\n",
    "\n",
    "    return P\n",
    "\n",
    "def make_gymP(P, R):\n",
    "    \"\"\"\n",
    "    Convert the transition and reward matrices to the gym format.\n",
    "    \"\"\"\n",
    "    gymP = defaultdict(lambda: defaultdict(list))\n",
    "    for s in range(nS):\n",
    "        for a in range(nA):\n",
    "            for s_ in range(nS_total):\n",
    "                if not np.isnan(P[s, a, s_]):\n",
    "                    prob = P[s, a, s_]\n",
    "                    reward = R[s, a, s_]\n",
    "                    done = int(s_ in [S_survival, S_death])\n",
    "                    gymP[s][a].append((prob, s_, reward, done))\n",
    "    return gymP"
   ]
  },
  {
   "cell_type": "code",
   "execution_count": 6,
   "id": "0a5c4b38",
   "metadata": {},
   "outputs": [
    {
     "name": "stdout",
     "output_type": "stream",
     "text": [
      "Saved gymP and R for mixed\n",
      "Saved gymP and R for plus\n",
      "Saved gymP and R for minus\n"
     ]
    }
   ],
   "source": [
    "df_train_shifted = pd.read_csv(\n",
    "    project_dir + 'data/traj_shifted_train.csv',\n",
    "    dtype={\"a:action\": \"Int64\", \"a:next_action\": \"Int64\"}\n",
    ")\n",
    "\n",
    "P_shifted = make_transition_matrix(df_train_shifted)\n",
    "\n",
    "variants = {\n",
    "    \"mixed\": R_mixed,\n",
    "    \"plus\": R_plus,\n",
    "    \"minus\": R_minus\n",
    "}\n",
    "\n",
    "for name, R in variants.items():\n",
    "    gymP = make_gymP(P_shifted, R)\n",
    "    \n",
    "    # save gymP\n",
    "    with open(project_dir + f\"data/env_model/gymP_shifted_{name}.pkl\", \"wb\") as f:\n",
    "        pickle.dump(dict(gymP), f)\n",
    "    \n",
    "    # save reward matrix too (optional, but nice to keep)\n",
    "    np.save(project_dir + f\"data/env_model/R_shifted_{name}.npy\", R)\n",
    "    \n",
    "    print(f\"Saved gymP and R for {name}\")\n",
    "\n"
   ]
  }
 ],
 "metadata": {
  "kernelspec": {
   "display_name": "base",
   "language": "python",
   "name": "python3"
  },
  "language_info": {
   "codemirror_mode": {
    "name": "ipython",
    "version": 3
   },
   "file_extension": ".py",
   "mimetype": "text/x-python",
   "name": "python",
   "nbconvert_exporter": "python",
   "pygments_lexer": "ipython3",
   "version": "3.10.16"
  }
 },
 "nbformat": 4,
 "nbformat_minor": 5
}
