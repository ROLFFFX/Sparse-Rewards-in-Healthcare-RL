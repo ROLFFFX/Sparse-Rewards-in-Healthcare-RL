{
 "cells": [
  {
   "cell_type": "code",
   "execution_count": 58,
   "id": "ba75983a",
   "metadata": {},
   "outputs": [],
   "source": [
    "import pandas as pd\n",
    "import numpy as np"
   ]
  },
  {
   "cell_type": "code",
   "execution_count": 60,
   "id": "21ed47bc",
   "metadata": {},
   "outputs": [],
   "source": [
    "project_dir = '../'\n",
    "\n",
    "df_train = pd.read_csv(project_dir + 'data/traj_shifted_train.csv')\n",
    "df_val = pd.read_csv(project_dir + 'data/traj_shifted_val.csv')\n",
    "df_test = pd.read_csv(project_dir + 'data/traj_shifted_test.csv')"
   ]
  },
  {
   "cell_type": "code",
   "execution_count": 61,
   "id": "44adccdb",
   "metadata": {},
   "outputs": [
    {
     "data": {
      "text/plain": [
       "Index(['traj', 'step', 's:state', 'a:action', 'r:reward', 's:next_state',\n",
       "       'a:next_action', 'done'],\n",
       "      dtype='object')"
      ]
     },
     "execution_count": 61,
     "metadata": {},
     "output_type": "execute_result"
    }
   ],
   "source": [
    "df_train.columns"
   ]
  },
  {
   "cell_type": "code",
   "execution_count": 62,
   "id": "785cf2a6",
   "metadata": {},
   "outputs": [
    {
     "name": "stdout",
     "output_type": "stream",
     "text": [
      "12185 :Positive Outcome\n",
      "1313 :Negative Outcome\n",
      "152215 :Intermediate States\n"
     ]
    }
   ],
   "source": [
    "print(len(df_train[df_train['r:reward'] == 1.0]), \":Positive Outcome\")\n",
    "print(len(df_train[df_train['r:reward'] == -1.0]), \":Negative Outcome\")\n",
    "print(len(df_train[df_train['r:reward'] == 0.0]), \":Intermediate States\")"
   ]
  },
  {
   "cell_type": "markdown",
   "id": "ec6b55dd",
   "metadata": {},
   "source": [
    "#### Making reward variants: survival-only, death-only, mixed"
   ]
  },
  {
   "cell_type": "code",
   "execution_count": 63,
   "id": "861a6501",
   "metadata": {},
   "outputs": [],
   "source": [
    "# mixed: no modification\n",
    "df_traj_mixed = df_train\n",
    "df_traj_mixed.to_csv(project_dir + \"data/reward_variants/traj_mixed\", index=False)"
   ]
  },
  {
   "cell_type": "code",
   "execution_count": 64,
   "id": "66e9aff4",
   "metadata": {},
   "outputs": [],
   "source": [
    "# death only: neglect survival reward\n",
    "df_traj_minus = df_train.copy()\n",
    "df_traj_minus.loc[df_train[\"r:reward\"] == 1.0, \"r:reward\"] = 0.0\n",
    "df_traj_minus.to_csv(project_dir + \"data/reward_variants/traj_minus\", index=False)"
   ]
  },
  {
   "cell_type": "code",
   "execution_count": 65,
   "id": "8f48c9b3",
   "metadata": {},
   "outputs": [],
   "source": [
    "# survival only: neglect death penalty\n",
    "df_traj_plus = df_train.copy()\n",
    "df_traj_plus.loc[df_train[\"r:reward\"] == -1.0, \"r:reward\"] = 0.0\n",
    "df_traj_plus.to_csv(project_dir + \"data/reward_variants/traj_plus\", index=False)"
   ]
  }
 ],
 "metadata": {
  "kernelspec": {
   "display_name": "base",
   "language": "python",
   "name": "python3"
  },
  "language_info": {
   "codemirror_mode": {
    "name": "ipython",
    "version": 3
   },
   "file_extension": ".py",
   "mimetype": "text/x-python",
   "name": "python",
   "nbconvert_exporter": "python",
   "pygments_lexer": "ipython3",
   "version": "3.10.16"
  }
 },
 "nbformat": 4,
 "nbformat_minor": 5
}
